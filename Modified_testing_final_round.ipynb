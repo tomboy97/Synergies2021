{
  "nbformat": 4,
  "nbformat_minor": 0,
  "metadata": {
    "colab": {
      "name": "Modified_testing_final.ipynb",
      "provenance": [],
      "collapsed_sections": [],
      "authorship_tag": "ABX9TyNMXc6XsLNx5KseGXK3ZHo2",
      "include_colab_link": true
    },
    "kernelspec": {
      "name": "python3",
      "display_name": "Python 3"
    },
    "language_info": {
      "name": "python"
    }
  },
  "cells": [
    {
      "cell_type": "markdown",
      "metadata": {
        "id": "view-in-github",
        "colab_type": "text"
      },
      "source": [
        "<a href=\"https://colab.research.google.com/github/tomboy97/Synergies2021/blob/main/Modified_testing_final_round.ipynb\" target=\"_parent\"><img src=\"https://colab.research.google.com/assets/colab-badge.svg\" alt=\"Open In Colab\"/></a>"
      ]
    },
    {
      "cell_type": "code",
      "metadata": {
        "id": "mPP6UDGrXFst"
      },
      "source": [
        "from pandas import read_csv\n",
        "import pandas as pd\n",
        "import io \n",
        "from matplotlib import pyplot as plt\n",
        "from matplotlib.pyplot import pie, axis, show"
      ],
      "execution_count": 1,
      "outputs": []
    },
    {
      "cell_type": "code",
      "metadata": {
        "colab": {
          "resources": {
            "http://localhost:8080/nbextensions/google.colab/files.js": {
              "data": "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",
              "ok": true,
              "headers": [
                [
                  "content-type",
                  "application/javascript"
                ]
              ],
              "status": 200,
              "status_text": ""
            }
          },
          "base_uri": "https://localhost:8080/",
          "height": 72
        },
        "id": "1ZVMKimYX7D8",
        "outputId": "8505155a-c60b-46c5-8e84-cc26a48c6fe9"
      },
      "source": [
        "from google.colab import files\n",
        "uploaded = files.upload()"
      ],
      "execution_count": 2,
      "outputs": [
        {
          "output_type": "display_data",
          "data": {
            "text/html": [
              "\n",
              "     <input type=\"file\" id=\"files-f3d2ba0b-5e0f-49de-ae76-620a73a78ab2\" name=\"files[]\" multiple disabled\n",
              "        style=\"border:none\" />\n",
              "     <output id=\"result-f3d2ba0b-5e0f-49de-ae76-620a73a78ab2\">\n",
              "      Upload widget is only available when the cell has been executed in the\n",
              "      current browser session. Please rerun this cell to enable.\n",
              "      </output>\n",
              "      <script src=\"/nbextensions/google.colab/files.js\"></script> "
            ],
            "text/plain": [
              "<IPython.core.display.HTML object>"
            ]
          },
          "metadata": {}
        },
        {
          "output_type": "stream",
          "name": "stdout",
          "text": [
            "Saving train.csv to train.csv\n"
          ]
        }
      ]
    },
    {
      "cell_type": "code",
      "metadata": {
        "colab": {
          "base_uri": "https://localhost:8080/"
        },
        "id": "8xkCRj5aaeUu",
        "outputId": "e80a8bfb-2746-4d22-c65d-6f837f87d4bd"
      },
      "source": [
        "df = pd.read_csv(io.BytesIO(uploaded['train.csv']), skiprows=1,header=None) \n",
        "print(df.head())"
      ],
      "execution_count": 3,
      "outputs": [
        {
          "output_type": "stream",
          "name": "stdout",
          "text": [
            "          0                  1  2   3   ...          20 21         22         23\n",
            "0  C-3301001       Paul Dempsey  M  19  ...  Semi-Urban  0  323790.36       0.00\n",
            "1  C-3301002  Gerry Christensen  F  52  ...       Rural  1  131466.83   56761.14\n",
            "2  C-3301003    Agusta Madison   M  33  ...       Rural  1  504493.70  216583.32\n",
            "3  C-3301004            B Burns  M  18  ...       Urban  1  247844.55  112498.54\n",
            "4  C-3301005        Paul Bolick  M  58  ...       Rural  1  212424.65   79958.20\n",
            "\n",
            "[5 rows x 24 columns]\n"
          ]
        }
      ]
    },
    {
      "cell_type": "code",
      "metadata": {
        "colab": {
          "base_uri": "https://localhost:8080/"
        },
        "id": "ODLtM6KoVfNs",
        "outputId": "a1ca8cef-90b2-49b2-b4d3-568128787a39"
      },
      "source": [
        "df.info()"
      ],
      "execution_count": 4,
      "outputs": [
        {
          "output_type": "stream",
          "name": "stdout",
          "text": [
            "<class 'pandas.core.frame.DataFrame'>\n",
            "RangeIndex: 21249 entries, 0 to 21248\n",
            "Data columns (total 24 columns):\n",
            " #   Column  Non-Null Count  Dtype  \n",
            "---  ------  --------------  -----  \n",
            " 0   0       21249 non-null  object \n",
            " 1   1       21249 non-null  object \n",
            " 2   2       21210 non-null  object \n",
            " 3   3       21249 non-null  int64  \n",
            " 4   4       18026 non-null  float64\n",
            " 5   5       20062 non-null  object \n",
            " 6   6       21249 non-null  object \n",
            " 7   7       16054 non-null  object \n",
            " 8   8       21249 non-null  object \n",
            " 9   9       21249 non-null  float64\n",
            " 10  10      21133 non-null  float64\n",
            " 11  11      21249 non-null  object \n",
            " 12  12      21249 non-null  object \n",
            " 13  13      19517 non-null  float64\n",
            " 14  14      20059 non-null  float64\n",
            " 15  15      21249 non-null  int64  \n",
            " 16  16      20163 non-null  object \n",
            " 17  17      21249 non-null  int64  \n",
            " 18  18      17839 non-null  float64\n",
            " 19  19      21249 non-null  int64  \n",
            " 20  20      20999 non-null  object \n",
            " 21  21      21249 non-null  int64  \n",
            " 22  22      21249 non-null  float64\n",
            " 23  23      21249 non-null  float64\n",
            "dtypes: float64(8), int64(5), object(11)\n",
            "memory usage: 3.9+ MB\n"
          ]
        }
      ]
    },
    {
      "cell_type": "code",
      "metadata": {
        "colab": {
          "base_uri": "https://localhost:8080/"
        },
        "id": "FDSmcwPDUlqZ",
        "outputId": "b154ebe1-769a-4d47-bc15-52765161a4f7"
      },
      "source": [
        "df.info()"
      ],
      "execution_count": 5,
      "outputs": [
        {
          "output_type": "stream",
          "name": "stdout",
          "text": [
            "<class 'pandas.core.frame.DataFrame'>\n",
            "RangeIndex: 21249 entries, 0 to 21248\n",
            "Data columns (total 24 columns):\n",
            " #   Column  Non-Null Count  Dtype  \n",
            "---  ------  --------------  -----  \n",
            " 0   0       21249 non-null  object \n",
            " 1   1       21249 non-null  object \n",
            " 2   2       21210 non-null  object \n",
            " 3   3       21249 non-null  int64  \n",
            " 4   4       18026 non-null  float64\n",
            " 5   5       20062 non-null  object \n",
            " 6   6       21249 non-null  object \n",
            " 7   7       16054 non-null  object \n",
            " 8   8       21249 non-null  object \n",
            " 9   9       21249 non-null  float64\n",
            " 10  10      21133 non-null  float64\n",
            " 11  11      21249 non-null  object \n",
            " 12  12      21249 non-null  object \n",
            " 13  13      19517 non-null  float64\n",
            " 14  14      20059 non-null  float64\n",
            " 15  15      21249 non-null  int64  \n",
            " 16  16      20163 non-null  object \n",
            " 17  17      21249 non-null  int64  \n",
            " 18  18      17839 non-null  float64\n",
            " 19  19      21249 non-null  int64  \n",
            " 20  20      20999 non-null  object \n",
            " 21  21      21249 non-null  int64  \n",
            " 22  22      21249 non-null  float64\n",
            " 23  23      21249 non-null  float64\n",
            "dtypes: float64(8), int64(5), object(11)\n",
            "memory usage: 3.9+ MB\n"
          ]
        }
      ]
    },
    {
      "cell_type": "code",
      "metadata": {
        "colab": {
          "base_uri": "https://localhost:8080/"
        },
        "id": "ppkHmhY1fMka",
        "outputId": "c6d83f18-8e21-496c-acd1-a08e923509fb"
      },
      "source": [
        "print(df.dtypes)"
      ],
      "execution_count": 6,
      "outputs": [
        {
          "output_type": "stream",
          "name": "stdout",
          "text": [
            "0      object\n",
            "1      object\n",
            "2      object\n",
            "3       int64\n",
            "4     float64\n",
            "5      object\n",
            "6      object\n",
            "7      object\n",
            "8      object\n",
            "9     float64\n",
            "10    float64\n",
            "11     object\n",
            "12     object\n",
            "13    float64\n",
            "14    float64\n",
            "15      int64\n",
            "16     object\n",
            "17      int64\n",
            "18    float64\n",
            "19      int64\n",
            "20     object\n",
            "21      int64\n",
            "22    float64\n",
            "23    float64\n",
            "dtype: object\n"
          ]
        }
      ]
    },
    {
      "cell_type": "code",
      "metadata": {
        "colab": {
          "base_uri": "https://localhost:8080/"
        },
        "id": "NdZKYnmMizhE",
        "outputId": "66a56d04-6a15-4f28-d94d-4d8c13ad3845"
      },
      "source": [
        "y = df.iloc[:, 23]\n",
        "print(y)"
      ],
      "execution_count": 7,
      "outputs": [
        {
          "output_type": "stream",
          "name": "stdout",
          "text": [
            "0             0.00\n",
            "1         56761.14\n",
            "2        216583.32\n",
            "3        112498.54\n",
            "4         79958.20\n",
            "           ...    \n",
            "21244         0.00\n",
            "21245         0.00\n",
            "21246     87076.29\n",
            "21247     73807.34\n",
            "21248     81702.23\n",
            "Name: 23, Length: 21249, dtype: float64\n"
          ]
        }
      ]
    },
    {
      "cell_type": "markdown",
      "metadata": {
        "id": "LZJ4BBlcjPgc"
      },
      "source": [
        "Training the models"
      ]
    },
    {
      "cell_type": "code",
      "metadata": {
        "colab": {
          "base_uri": "https://localhost:8080/"
        },
        "id": "H81nGTG_jWE4",
        "outputId": "d65e1744-fb8a-49c4-aa16-1c28bd370a06"
      },
      "source": [
        "df.isnull().sum()"
      ],
      "execution_count": 8,
      "outputs": [
        {
          "output_type": "execute_result",
          "data": {
            "text/plain": [
              "0        0\n",
              "1        0\n",
              "2       39\n",
              "3        0\n",
              "4     3223\n",
              "5     1187\n",
              "6        0\n",
              "7     5195\n",
              "8        0\n",
              "9        0\n",
              "10     116\n",
              "11       0\n",
              "12       0\n",
              "13    1732\n",
              "14    1190\n",
              "15       0\n",
              "16    1086\n",
              "17       0\n",
              "18    3410\n",
              "19       0\n",
              "20     250\n",
              "21       0\n",
              "22       0\n",
              "23       0\n",
              "dtype: int64"
            ]
          },
          "metadata": {},
          "execution_count": 8
        }
      ]
    },
    {
      "cell_type": "markdown",
      "metadata": {
        "id": "bz_nL6ADmHhy"
      },
      "source": [
        "Filling of numerical data"
      ]
    },
    {
      "cell_type": "code",
      "metadata": {
        "colab": {
          "base_uri": "https://localhost:8080/"
        },
        "id": "Tt24ZF3tpETa",
        "outputId": "45dc089a-6b2b-4194-fa90-4c4cbea7a675"
      },
      "source": [
        "df[4].fillna(df[4].mean(), inplace=True)\n",
        "print(df[4])"
      ],
      "execution_count": 9,
      "outputs": [
        {
          "output_type": "stream",
          "name": "stdout",
          "text": [
            "0        2439.550000\n",
            "1        3229.110000\n",
            "2        4880.710000\n",
            "3        2650.049937\n",
            "4        2864.720000\n",
            "            ...     \n",
            "21244    1324.000000\n",
            "21245    3810.990000\n",
            "21246    2650.049937\n",
            "21247    1409.950000\n",
            "21248    2650.049937\n",
            "Name: 4, Length: 21249, dtype: float64\n"
          ]
        }
      ]
    },
    {
      "cell_type": "code",
      "metadata": {
        "colab": {
          "base_uri": "https://localhost:8080/"
        },
        "id": "oE-pjl9Rpj-H",
        "outputId": "f2a98096-c5dd-4b2f-9bed-fe31f85b572f"
      },
      "source": [
        "df[10].fillna(df[10].mean(),inplace=True)\n",
        "print(df[10])"
      ],
      "execution_count": 10,
      "outputs": [
        {
          "output_type": "stream",
          "name": "stdout",
          "text": [
            "0         661.030000\n",
            "1         439.920000\n",
            "2        1150.090000\n",
            "3         401.891057\n",
            "4         517.350000\n",
            "            ...     \n",
            "21244     381.370000\n",
            "21245    1041.530000\n",
            "21246     402.560000\n",
            "21247     828.640000\n",
            "21248     461.680000\n",
            "Name: 10, Length: 21249, dtype: float64\n"
          ]
        }
      ]
    },
    {
      "cell_type": "code",
      "metadata": {
        "colab": {
          "base_uri": "https://localhost:8080/"
        },
        "id": "bVJ7oakVp8jt",
        "outputId": "973175f4-583d-4735-8f14-f8db15901c21"
      },
      "source": [
        "df[13].fillna(df[13].median(), inplace=True)\n",
        "print(df[13])"
      ],
      "execution_count": 11,
      "outputs": [
        {
          "output_type": "stream",
          "name": "stdout",
          "text": [
            "0        2.0\n",
            "1        1.0\n",
            "2        2.0\n",
            "3        4.0\n",
            "4        1.0\n",
            "        ... \n",
            "21244    2.0\n",
            "21245    2.0\n",
            "21246    2.0\n",
            "21247    4.0\n",
            "21248    1.0\n",
            "Name: 13, Length: 21249, dtype: float64\n"
          ]
        }
      ]
    },
    {
      "cell_type": "code",
      "metadata": {
        "colab": {
          "base_uri": "https://localhost:8080/"
        },
        "id": "x8_pubjbqMy7",
        "outputId": "ceb53327-0934-4aee-95b8-952ee089f3fc"
      },
      "source": [
        "df[14].fillna(df[14].mean(), inplace=True)\n",
        "print(df[14])"
      ],
      "execution_count": 12,
      "outputs": [
        {
          "output_type": "stream",
          "name": "stdout",
          "text": [
            "0        624.34\n",
            "1        798.30\n",
            "2        787.47\n",
            "3        819.74\n",
            "4        675.89\n",
            "          ...  \n",
            "21244    718.40\n",
            "21245    768.06\n",
            "21246    771.86\n",
            "21247    726.79\n",
            "21248    876.27\n",
            "Name: 14, Length: 21249, dtype: float64\n"
          ]
        }
      ]
    },
    {
      "cell_type": "code",
      "metadata": {
        "colab": {
          "base_uri": "https://localhost:8080/"
        },
        "id": "jitRCQ_dqZ4K",
        "outputId": "f75411d4-76b3-4649-e171-7bb7d077c46d"
      },
      "source": [
        "df[18].fillna(df[18].mean(), inplace=True)\n",
        "print(df[18])"
      ],
      "execution_count": 13,
      "outputs": [
        {
          "output_type": "stream",
          "name": "stdout",
          "text": [
            "0        2439.550000\n",
            "1        3229.110000\n",
            "2        4880.710000\n",
            "3        2649.893002\n",
            "4        2864.720000\n",
            "            ...     \n",
            "21244    1324.000000\n",
            "21245    3810.990000\n",
            "21246    2649.893002\n",
            "21247    1409.950000\n",
            "21248    2649.893002\n",
            "Name: 18, Length: 21249, dtype: float64\n"
          ]
        }
      ]
    },
    {
      "cell_type": "markdown",
      "metadata": {
        "id": "rLz5-HRMqjGr"
      },
      "source": [
        "filling categorical values"
      ]
    },
    {
      "cell_type": "code",
      "metadata": {
        "colab": {
          "base_uri": "https://localhost:8080/"
        },
        "id": "fJcRUtKUqnd_",
        "outputId": "bb4d53e8-fdd0-4bbc-c779-c7cca0390cf0"
      },
      "source": [
        "df.isnull().sum()"
      ],
      "execution_count": 14,
      "outputs": [
        {
          "output_type": "execute_result",
          "data": {
            "text/plain": [
              "0        0\n",
              "1        0\n",
              "2       39\n",
              "3        0\n",
              "4        0\n",
              "5     1187\n",
              "6        0\n",
              "7     5195\n",
              "8        0\n",
              "9        0\n",
              "10       0\n",
              "11       0\n",
              "12       0\n",
              "13       0\n",
              "14       0\n",
              "15       0\n",
              "16    1086\n",
              "17       0\n",
              "18       0\n",
              "19       0\n",
              "20     250\n",
              "21       0\n",
              "22       0\n",
              "23       0\n",
              "dtype: int64"
            ]
          },
          "metadata": {},
          "execution_count": 14
        }
      ]
    },
    {
      "cell_type": "code",
      "metadata": {
        "colab": {
          "base_uri": "https://localhost:8080/"
        },
        "id": "gpRBbpxFuh5Y",
        "outputId": "ae655eeb-23bb-4134-d079-18325d3e435f"
      },
      "source": [
        "df[2].fillna(df[2].mode()[0], inplace=True)\n",
        "print(df[2])"
      ],
      "execution_count": 15,
      "outputs": [
        {
          "output_type": "stream",
          "name": "stdout",
          "text": [
            "0        M\n",
            "1        F\n",
            "2        M\n",
            "3        M\n",
            "4        M\n",
            "        ..\n",
            "21244    F\n",
            "21245    M\n",
            "21246    M\n",
            "21247    F\n",
            "21248    M\n",
            "Name: 2, Length: 21249, dtype: object\n"
          ]
        }
      ]
    },
    {
      "cell_type": "code",
      "metadata": {
        "colab": {
          "base_uri": "https://localhost:8080/",
          "height": 248
        },
        "id": "-TlUYTeM-nQs",
        "outputId": "73822069-7d97-4595-b3ab-84438b4ecf91"
      },
      "source": [
        "df.groupby(2).size().plot(kind='pie', autopct='%.2f')\n",
        "plt.show()\n"
      ],
      "execution_count": 16,
      "outputs": [
        {
          "output_type": "display_data",
          "data": {
            "image/png": "[encoded data removed]",
            "text/plain": [
              "<Figure size 432x288 with 1 Axes>"
            ]
          },
          "metadata": {}
        }
      ]
    },
    {
      "cell_type": "code",
      "metadata": {
        "colab": {
          "base_uri": "https://localhost:8080/"
        },
        "id": "j7Easba_uyZU",
        "outputId": "83516dff-cc01-4f81-eeab-969d76e22de5"
      },
      "source": [
        "df[5].fillna(df[5].mode()[0], inplace=True)\n",
        "print(df[5])"
      ],
      "execution_count": 17,
      "outputs": [
        {
          "output_type": "stream",
          "name": "stdout",
          "text": [
            "0         Low\n",
            "1         Low\n",
            "2         Low\n",
            "3         Low\n",
            "4         Low\n",
            "         ... \n",
            "21244     Low\n",
            "21245     Low\n",
            "21246     Low\n",
            "21247     Low\n",
            "21248    High\n",
            "Name: 5, Length: 21249, dtype: object\n"
          ]
        }
      ]
    },
    {
      "cell_type": "code",
      "metadata": {
        "colab": {
          "base_uri": "https://localhost:8080/",
          "height": 265
        },
        "id": "7Z0aenEDBPDH",
        "outputId": "926b54ac-d6bd-4eb4-fe73-29d8c5c87412"
      },
      "source": [
        "df.groupby(5).size().plot(kind='pie', autopct='%.2f')\n",
        "plt.ylabel(\"\")\n"
      ],
      "execution_count": 18,
      "outputs": [
        {
          "output_type": "execute_result",
          "data": {
            "text/plain": [
              "Text(0, 0.5, '')"
            ]
          },
          "metadata": {},
          "execution_count": 18
        },
        {
          "output_type": "display_data",
          "data": {
            "image/png": "[encoded data removed]",
            "text/plain": [
              "<Figure size 432x288 with 1 Axes>"
            ]
          },
          "metadata": {}
        }
      ]
    },
    {
      "cell_type": "code",
      "metadata": {
        "colab": {
          "base_uri": "https://localhost:8080/"
        },
        "id": "cGoABj_fu_1L",
        "outputId": "bd369047-4d94-4ff8-e3d0-73383dcf659a"
      },
      "source": [
        "df[7].fillna(df[7].mode()[0], inplace=True)\n",
        "print(df[7])"
      ],
      "execution_count": 19,
      "outputs": [
        {
          "output_type": "stream",
          "name": "stdout",
          "text": [
            "0              Laborers\n",
            "1              Laborers\n",
            "2              Laborers\n",
            "3            Core staff\n",
            "4        Security staff\n",
            "              ...      \n",
            "21244    Medicine staff\n",
            "21245        Core staff\n",
            "21246        Core staff\n",
            "21247    Cleaning staff\n",
            "21248          Laborers\n",
            "Name: 7, Length: 21249, dtype: object\n"
          ]
        }
      ]
    },
    {
      "cell_type": "code",
      "metadata": {
        "colab": {
          "base_uri": "https://localhost:8080/",
          "height": 265
        },
        "id": "vdzvp047CCAh",
        "outputId": "d57f2c0d-ab13-4d0b-ebc4-5f3f534cb449"
      },
      "source": [
        "df.groupby(7).size().plot(kind='pie', autopct='%.2f')\n",
        "plt.ylabel(\"\")\n"
      ],
      "execution_count": 20,
      "outputs": [
        {
          "output_type": "execute_result",
          "data": {
            "text/plain": [
              "Text(0, 0.5, '')"
            ]
          },
          "metadata": {},
          "execution_count": 20
        },
        {
          "output_type": "display_data",
          "data": {
            "image/png": "[encoded data removed]",
            "text/plain": [
              "<Figure size 432x288 with 1 Axes>"
            ]
          },
          "metadata": {}
        }
      ]
    },
    {
      "cell_type": "code",
      "metadata": {
        "colab": {
          "base_uri": "https://localhost:8080/"
        },
        "id": "HIw0y4ZbvTLS",
        "outputId": "caaaf35a-0329-4b73-c10a-832461ee049d"
      },
      "source": [
        "df[16].fillna(df[16].mode()[0], inplace=True)\n",
        "print(df[16])"
      ],
      "execution_count": 21,
      "outputs": [
        {
          "output_type": "stream",
          "name": "stdout",
          "text": [
            "0        Inactive\n",
            "1        Inactive\n",
            "2          Active\n",
            "3          Active\n",
            "4          Active\n",
            "           ...   \n",
            "21244      Active\n",
            "21245      Active\n",
            "21246      Active\n",
            "21247      Active\n",
            "21248      Active\n",
            "Name: 16, Length: 21249, dtype: object\n"
          ]
        }
      ]
    },
    {
      "cell_type": "code",
      "metadata": {
        "colab": {
          "base_uri": "https://localhost:8080/",
          "height": 265
        },
        "id": "9AHReU_7Ezzj",
        "outputId": "935d73e9-24e2-4228-c81b-8589f6bd244c"
      },
      "source": [
        "df.groupby(16).size().plot(kind='pie', autopct='%.2f')\n",
        "plt.ylabel(\"\")\n"
      ],
      "execution_count": 22,
      "outputs": [
        {
          "output_type": "execute_result",
          "data": {
            "text/plain": [
              "Text(0, 0.5, '')"
            ]
          },
          "metadata": {},
          "execution_count": 22
        },
        {
          "output_type": "display_data",
          "data": {
            "image/png": "[encoded data removed]",
            "text/plain": [
              "<Figure size 432x288 with 1 Axes>"
            ]
          },
          "metadata": {}
        }
      ]
    },
    {
      "cell_type": "code",
      "metadata": {
        "colab": {
          "base_uri": "https://localhost:8080/"
        },
        "id": "GPQUriM3vgpt",
        "outputId": "e99b4caf-e85c-4e41-dcbb-7bdccc4a9a3d"
      },
      "source": [
        "df[20].fillna(df[20].mode()[0], inplace=True)\n",
        "print(df[20])"
      ],
      "execution_count": 23,
      "outputs": [
        {
          "output_type": "stream",
          "name": "stdout",
          "text": [
            "0        Semi-Urban\n",
            "1             Rural\n",
            "2             Rural\n",
            "3             Urban\n",
            "4             Rural\n",
            "            ...    \n",
            "21244         Rural\n",
            "21245    Semi-Urban\n",
            "21246    Semi-Urban\n",
            "21247         Rural\n",
            "21248    Semi-Urban\n",
            "Name: 20, Length: 21249, dtype: object\n"
          ]
        }
      ]
    },
    {
      "cell_type": "code",
      "metadata": {
        "colab": {
          "base_uri": "https://localhost:8080/",
          "height": 265
        },
        "id": "uVv8rlAlCIiP",
        "outputId": "00fcb1fd-90fc-4bad-87ab-955fd351cd06"
      },
      "source": [
        "df.groupby(20).size().plot(kind='pie', autopct='%.2f')\n",
        "plt.ylabel(\"\")\n"
      ],
      "execution_count": 24,
      "outputs": [
        {
          "output_type": "execute_result",
          "data": {
            "text/plain": [
              "Text(0, 0.5, '')"
            ]
          },
          "metadata": {},
          "execution_count": 24
        },
        {
          "output_type": "display_data",
          "data": {
            "image/png": "[encoded data removed]",
            "text/plain": [
              "<Figure size 432x288 with 1 Axes>"
            ]
          },
          "metadata": {}
        }
      ]
    },
    {
      "cell_type": "code",
      "metadata": {
        "colab": {
          "base_uri": "https://localhost:8080/"
        },
        "id": "n3m9mJw2voed",
        "outputId": "1a748a91-7137-46e1-c028-3bab5f1ab9d7"
      },
      "source": [
        "df.isnull().sum()"
      ],
      "execution_count": 25,
      "outputs": [
        {
          "output_type": "execute_result",
          "data": {
            "text/plain": [
              "0     0\n",
              "1     0\n",
              "2     0\n",
              "3     0\n",
              "4     0\n",
              "5     0\n",
              "6     0\n",
              "7     0\n",
              "8     0\n",
              "9     0\n",
              "10    0\n",
              "11    0\n",
              "12    0\n",
              "13    0\n",
              "14    0\n",
              "15    0\n",
              "16    0\n",
              "17    0\n",
              "18    0\n",
              "19    0\n",
              "20    0\n",
              "21    0\n",
              "22    0\n",
              "23    0\n",
              "dtype: int64"
            ]
          },
          "metadata": {},
          "execution_count": 25
        }
      ]
    },
    {
      "cell_type": "markdown",
      "metadata": {
        "id": "tNFTPcBx4t_S"
      },
      "source": [
        "Converting loan sanction column by converting values into 0 and 1"
      ]
    },
    {
      "cell_type": "code",
      "metadata": {
        "id": "Vw7ZbY963yIe"
      },
      "source": [
        "df[23] = df[23].map(lambda x: 0 if x == 0 else 1)\n",
        "df[23] = df[23].astype(int)"
      ],
      "execution_count": 26,
      "outputs": []
    },
    {
      "cell_type": "code",
      "metadata": {
        "colab": {
          "base_uri": "https://localhost:8080/"
        },
        "id": "4gTLiEWS4PPf",
        "outputId": "05065197-00a0-4802-ba7b-a0e923df75ea"
      },
      "source": [
        "df[23]"
      ],
      "execution_count": 27,
      "outputs": [
        {
          "output_type": "execute_result",
          "data": {
            "text/plain": [
              "0        0\n",
              "1        1\n",
              "2        1\n",
              "3        1\n",
              "4        1\n",
              "        ..\n",
              "21244    0\n",
              "21245    0\n",
              "21246    1\n",
              "21247    1\n",
              "21248    1\n",
              "Name: 23, Length: 21249, dtype: int64"
            ]
          },
          "metadata": {},
          "execution_count": 27
        }
      ]
    },
    {
      "cell_type": "code",
      "metadata": {
        "colab": {
          "base_uri": "https://localhost:8080/",
          "height": 265
        },
        "id": "d8IvSWxSC88S",
        "outputId": "fc1d85ea-d95c-427e-cc5a-f230daa0c537"
      },
      "source": [
        "df.groupby(23).size().plot(kind='pie', autopct='%.2f')\n",
        "plt.ylabel(\"\")\n"
      ],
      "execution_count": 28,
      "outputs": [
        {
          "output_type": "execute_result",
          "data": {
            "text/plain": [
              "Text(0, 0.5, '')"
            ]
          },
          "metadata": {},
          "execution_count": 28
        },
        {
          "output_type": "display_data",
          "data": {
            "image/png": "[encoded data removed]",
            "text/plain": [
              "<Figure size 432x288 with 1 Axes>"
            ]
          },
          "metadata": {}
        }
      ]
    },
    {
      "cell_type": "markdown",
      "metadata": {
        "id": "NLtMWzbi9tXf"
      },
      "source": [
        "Label encoding of categorical data"
      ]
    },
    {
      "cell_type": "code",
      "metadata": {
        "colab": {
          "base_uri": "https://localhost:8080/"
        },
        "id": "JJKn6ruR9xaF",
        "outputId": "9a8c6434-30ce-4b2c-ca37-14dd6f23f2b3"
      },
      "source": [
        "# Categorical boolean mask\n",
        "categorical_feature_mask = df.dtypes==object\n",
        "\n",
        "# filter categorical columns using mask and turn it into a list\n",
        "categorical_cols = df.columns[categorical_feature_mask].tolist()\n",
        "categorical_cols.pop(0)\n",
        "categorical_cols.pop(0)\n",
        "print(categorical_cols)"
      ],
      "execution_count": 29,
      "outputs": [
        {
          "output_type": "stream",
          "name": "stdout",
          "text": [
            "[2, 5, 6, 7, 8, 11, 12, 16, 20]\n"
          ]
        }
      ]
    },
    {
      "cell_type": "code",
      "metadata": {
        "id": "i4wYA4C4-2bN"
      },
      "source": [
        "# import labelencoder\n",
        "from sklearn.preprocessing import LabelEncoder\n",
        "# instantiate labelencoder object\n",
        "le = LabelEncoder()"
      ],
      "execution_count": 30,
      "outputs": []
    },
    {
      "cell_type": "code",
      "metadata": {
        "colab": {
          "base_uri": "https://localhost:8080/",
          "height": 359
        },
        "id": "WUw2Lp63--VL",
        "outputId": "c0b5f9da-8577-4019-fb44-314b1fcb7a8d"
      },
      "source": [
        "# apply le on categorical feature columns\n",
        "df[categorical_cols] = df[categorical_cols].apply(lambda col: le.fit_transform(col))\n",
        "df[categorical_cols].head(10)"
      ],
      "execution_count": 31,
      "outputs": [
        {
          "output_type": "execute_result",
          "data": {
            "text/html": [
              "<div>\n",
              "<style scoped>\n",
              "    .dataframe tbody tr th:only-of-type {\n",
              "        vertical-align: middle;\n",
              "    }\n",
              "\n",
              "    .dataframe tbody tr th {\n",
              "        vertical-align: top;\n",
              "    }\n",
              "\n",
              "    .dataframe thead th {\n",
              "        text-align: right;\n",
              "    }\n",
              "</style>\n",
              "<table border=\"1\" class=\"dataframe\">\n",
              "  <thead>\n",
              "    <tr style=\"text-align: right;\">\n",
              "      <th></th>\n",
              "      <th>2</th>\n",
              "      <th>5</th>\n",
              "      <th>6</th>\n",
              "      <th>7</th>\n",
              "      <th>8</th>\n",
              "      <th>11</th>\n",
              "      <th>12</th>\n",
              "      <th>16</th>\n",
              "      <th>20</th>\n",
              "    </tr>\n",
              "  </thead>\n",
              "  <tbody>\n",
              "    <tr>\n",
              "      <th>0</th>\n",
              "      <td>1</td>\n",
              "      <td>1</td>\n",
              "      <td>1</td>\n",
              "      <td>8</td>\n",
              "      <td>1</td>\n",
              "      <td>0</td>\n",
              "      <td>1</td>\n",
              "      <td>1</td>\n",
              "      <td>1</td>\n",
              "    </tr>\n",
              "    <tr>\n",
              "      <th>1</th>\n",
              "      <td>0</td>\n",
              "      <td>1</td>\n",
              "      <td>7</td>\n",
              "      <td>8</td>\n",
              "      <td>1</td>\n",
              "      <td>0</td>\n",
              "      <td>1</td>\n",
              "      <td>1</td>\n",
              "      <td>0</td>\n",
              "    </tr>\n",
              "    <tr>\n",
              "      <th>2</th>\n",
              "      <td>1</td>\n",
              "      <td>1</td>\n",
              "      <td>4</td>\n",
              "      <td>8</td>\n",
              "      <td>2</td>\n",
              "      <td>1</td>\n",
              "      <td>1</td>\n",
              "      <td>0</td>\n",
              "      <td>0</td>\n",
              "    </tr>\n",
              "    <tr>\n",
              "      <th>3</th>\n",
              "      <td>1</td>\n",
              "      <td>1</td>\n",
              "      <td>7</td>\n",
              "      <td>3</td>\n",
              "      <td>1</td>\n",
              "      <td>0</td>\n",
              "      <td>1</td>\n",
              "      <td>0</td>\n",
              "      <td>2</td>\n",
              "    </tr>\n",
              "    <tr>\n",
              "      <th>4</th>\n",
              "      <td>1</td>\n",
              "      <td>1</td>\n",
              "      <td>7</td>\n",
              "      <td>16</td>\n",
              "      <td>1</td>\n",
              "      <td>1</td>\n",
              "      <td>0</td>\n",
              "      <td>0</td>\n",
              "      <td>0</td>\n",
              "    </tr>\n",
              "    <tr>\n",
              "      <th>5</th>\n",
              "      <td>1</td>\n",
              "      <td>1</td>\n",
              "      <td>1</td>\n",
              "      <td>14</td>\n",
              "      <td>1</td>\n",
              "      <td>1</td>\n",
              "      <td>0</td>\n",
              "      <td>2</td>\n",
              "      <td>2</td>\n",
              "    </tr>\n",
              "    <tr>\n",
              "      <th>6</th>\n",
              "      <td>1</td>\n",
              "      <td>0</td>\n",
              "      <td>3</td>\n",
              "      <td>8</td>\n",
              "      <td>1</td>\n",
              "      <td>0</td>\n",
              "      <td>0</td>\n",
              "      <td>1</td>\n",
              "      <td>2</td>\n",
              "    </tr>\n",
              "    <tr>\n",
              "      <th>7</th>\n",
              "      <td>0</td>\n",
              "      <td>1</td>\n",
              "      <td>7</td>\n",
              "      <td>14</td>\n",
              "      <td>1</td>\n",
              "      <td>1</td>\n",
              "      <td>0</td>\n",
              "      <td>0</td>\n",
              "      <td>2</td>\n",
              "    </tr>\n",
              "    <tr>\n",
              "      <th>8</th>\n",
              "      <td>1</td>\n",
              "      <td>0</td>\n",
              "      <td>3</td>\n",
              "      <td>8</td>\n",
              "      <td>1</td>\n",
              "      <td>0</td>\n",
              "      <td>1</td>\n",
              "      <td>1</td>\n",
              "      <td>2</td>\n",
              "    </tr>\n",
              "    <tr>\n",
              "      <th>9</th>\n",
              "      <td>1</td>\n",
              "      <td>1</td>\n",
              "      <td>7</td>\n",
              "      <td>14</td>\n",
              "      <td>1</td>\n",
              "      <td>0</td>\n",
              "      <td>0</td>\n",
              "      <td>0</td>\n",
              "      <td>0</td>\n",
              "    </tr>\n",
              "  </tbody>\n",
              "</table>\n",
              "</div>"
            ],
            "text/plain": [
              "   2   5   6   7   8   11  12  16  20\n",
              "0   1   1   1   8   1   0   1   1   1\n",
              "1   0   1   7   8   1   0   1   1   0\n",
              "2   1   1   4   8   2   1   1   0   0\n",
              "3   1   1   7   3   1   0   1   0   2\n",
              "4   1   1   7  16   1   1   0   0   0\n",
              "5   1   1   1  14   1   1   0   2   2\n",
              "6   1   0   3   8   1   0   0   1   2\n",
              "7   0   1   7  14   1   1   0   0   2\n",
              "8   1   0   3   8   1   0   1   1   2\n",
              "9   1   1   7  14   1   0   0   0   0"
            ]
          },
          "metadata": {},
          "execution_count": 31
        }
      ]
    },
    {
      "cell_type": "markdown",
      "metadata": {
        "id": "Q86zvU8MxGNa"
      },
      "source": [
        "Creating X and y variable for training"
      ]
    },
    {
      "cell_type": "code",
      "metadata": {
        "colab": {
          "base_uri": "https://localhost:8080/"
        },
        "id": "Rs4Cy_pywezK",
        "outputId": "1060f0df-03f5-4973-fa5e-ae1273d8074a"
      },
      "source": [
        "X_train = df.iloc[:, 2:23]\n",
        "print(X_train)"
      ],
      "execution_count": 32,
      "outputs": [
        {
          "output_type": "stream",
          "name": "stdout",
          "text": [
            "       2   3            4   5   6   7   ...   17           18  19  20  21         22\n",
            "0       1  19  2439.550000   1   1   8  ...  311  2439.550000   4   1   0  323790.36\n",
            "1       0  52  3229.110000   1   7   8  ...    7  3229.110000   1   0   1  131466.83\n",
            "2       1  33  4880.710000   1   4   8  ...  689  4880.710000   3   0   1  504493.70\n",
            "3       1  18  2650.049937   1   7   3  ...  696  2649.893002   4   2   1  247844.55\n",
            "4       1  58  2864.720000   1   7  16  ...  460  2864.720000   4   0   1  212424.65\n",
            "...    ..  ..          ...  ..  ..  ..  ...  ...          ...  ..  ..  ..        ...\n",
            "21244   0  20  1324.000000   1   1  11  ...  465  1324.000000   4   0   1   55307.51\n",
            "21245   1  22  3810.990000   1   1   3  ...  646  3810.990000   4   1   1  446882.76\n",
            "21246   1  20  2650.049937   1   4   3  ...  279  2649.893002   4   1   1  180658.11\n",
            "21247   0  35  1409.950000   1   7   1  ...  592  1409.950000   4   0   1  165358.16\n",
            "21248   1  64  2650.049937   0   3   8  ...  605  2649.893002   2   1   1  174894.73\n",
            "\n",
            "[21249 rows x 21 columns]\n"
          ]
        }
      ]
    },
    {
      "cell_type": "code",
      "metadata": {
        "colab": {
          "base_uri": "https://localhost:8080/"
        },
        "id": "QVoxEjv3wpRS",
        "outputId": "a607d1f8-5c7f-4d8f-916b-2887c814b098"
      },
      "source": [
        "y_train = df.iloc[:, 23]\n",
        "print(y_train)"
      ],
      "execution_count": 33,
      "outputs": [
        {
          "output_type": "stream",
          "name": "stdout",
          "text": [
            "0        0\n",
            "1        1\n",
            "2        1\n",
            "3        1\n",
            "4        1\n",
            "        ..\n",
            "21244    0\n",
            "21245    0\n",
            "21246    1\n",
            "21247    1\n",
            "21248    1\n",
            "Name: 23, Length: 21249, dtype: int64\n"
          ]
        }
      ]
    },
    {
      "cell_type": "markdown",
      "metadata": {
        "id": "1sdlirDKHVys"
      },
      "source": [
        "Splitting X_train and y_train into training and testing set"
      ]
    },
    {
      "cell_type": "code",
      "metadata": {
        "id": "PmvhxfTpHfkb"
      },
      "source": [
        "# split into train and test\n",
        "from sklearn.model_selection import train_test_split\n",
        "X_train_train, X_train_test, y_train_train, y_train_test = train_test_split(X_train, y_train, \n",
        "                                                    train_size=0.7,\n",
        "                                                    test_size = 0.3, random_state=100)"
      ],
      "execution_count": 34,
      "outputs": []
    },
    {
      "cell_type": "markdown",
      "metadata": {
        "id": "E47hUSIp4hoV"
      },
      "source": [
        "Training models "
      ]
    },
    {
      "cell_type": "code",
      "metadata": {
        "colab": {
          "base_uri": "https://localhost:8080/"
        },
        "id": "_T_3h8074lJR",
        "outputId": "ba06d24f-d840-42c0-bba9-bb5899347965"
      },
      "source": [
        "from sklearn.linear_model import LogisticRegression\n",
        "model_log = LogisticRegression(solver='liblinear', random_state=0)\n",
        "model_log.fit(X_train_train, y_train_train)"
      ],
      "execution_count": 35,
      "outputs": [
        {
          "output_type": "execute_result",
          "data": {
            "text/plain": [
              "LogisticRegression(C=1.0, class_weight=None, dual=False, fit_intercept=True,\n",
              "                   intercept_scaling=1, l1_ratio=None, max_iter=100,\n",
              "                   multi_class='auto', n_jobs=None, penalty='l2',\n",
              "                   random_state=0, solver='liblinear', tol=0.0001, verbose=0,\n",
              "                   warm_start=False)"
            ]
          },
          "metadata": {},
          "execution_count": 35
        }
      ]
    },
    {
      "cell_type": "code",
      "metadata": {
        "colab": {
          "base_uri": "https://localhost:8080/"
        },
        "id": "M-aiOqvT54FC",
        "outputId": "f463663d-a044-400c-b95b-a30f04def343"
      },
      "source": [
        "print(model_log.score(X_train_test, y_train_test))\n",
        "y_pred_log = model_log.predict(X_train_test)\n",
        "from sklearn import metrics\n",
        "print(\"Accuracy:\",metrics.accuracy_score(y_train_test, y_pred_log))"
      ],
      "execution_count": 36,
      "outputs": [
        {
          "output_type": "stream",
          "name": "stdout",
          "text": [
            "0.724078431372549\n",
            "Accuracy: 0.724078431372549\n"
          ]
        }
      ]
    },
    {
      "cell_type": "markdown",
      "metadata": {
        "id": "a7h1Ani38Esb"
      },
      "source": [
        "Applying K-Fold Cross Validation"
      ]
    },
    {
      "cell_type": "code",
      "metadata": {
        "colab": {
          "base_uri": "https://localhost:8080/"
        },
        "id": "drSQ16kr6qOO",
        "outputId": "9ef214c8-fb2e-4975-d2e8-f300c1e1a5a3"
      },
      "source": [
        "from sklearn.model_selection import cross_val_score\n",
        "accuracies_log = cross_val_score(estimator=model_log, X=X_train_train, y=y_train_train, cv=10)\n",
        "accuracies_log.mean()"
      ],
      "execution_count": 37,
      "outputs": [
        {
          "output_type": "execute_result",
          "data": {
            "text/plain": [
              "0.736856248779747"
            ]
          },
          "metadata": {},
          "execution_count": 37
        }
      ]
    },
    {
      "cell_type": "code",
      "metadata": {
        "id": "39YOqKt-6wmu"
      },
      "source": [
        "from sklearn.ensemble import RandomForestClassifier\n",
        "model_ran=RandomForestClassifier(n_estimators=100)\n",
        "model_ran.fit(X_train_train,y_train_train)\n",
        "y_pred_ran=model_ran.predict(X_train_test)\n"
      ],
      "execution_count": 38,
      "outputs": []
    },
    {
      "cell_type": "code",
      "metadata": {
        "colab": {
          "base_uri": "https://localhost:8080/"
        },
        "id": "yUZ3kGYa7cDa",
        "outputId": "8dfa4644-7235-4d63-b720-509abbed6d06"
      },
      "source": [
        "from sklearn import metrics\n",
        "print(\"Accuracy:\",metrics.accuracy_score(y_train_test, y_pred_ran))\n"
      ],
      "execution_count": 39,
      "outputs": [
        {
          "output_type": "stream",
          "name": "stdout",
          "text": [
            "Accuracy: 0.9116862745098039\n"
          ]
        }
      ]
    },
    {
      "cell_type": "code",
      "metadata": {
        "colab": {
          "base_uri": "https://localhost:8080/"
        },
        "id": "5fSHWUrF8OTO",
        "outputId": "4962da7c-3548-45b5-c94c-0d4b7fe67eb4"
      },
      "source": [
        "accuracies_ran = cross_val_score(estimator=model_ran, X=X_train_train, y=y_train_train, cv=10)\n",
        "accuracies_ran.mean()"
      ],
      "execution_count": 40,
      "outputs": [
        {
          "output_type": "execute_result",
          "data": {
            "text/plain": [
              "0.9143471465966695"
            ]
          },
          "metadata": {},
          "execution_count": 40
        }
      ]
    },
    {
      "cell_type": "code",
      "metadata": {
        "id": "lEaVP-Hy8cmh"
      },
      "source": [
        "from sklearn.naive_bayes import GaussianNB\n",
        "model_nav = GaussianNB()\n",
        "model_nav.fit(X_train_train, y_train_train)\n",
        "y_pred_van = model_nav.predict(X_train_test)\n"
      ],
      "execution_count": 41,
      "outputs": []
    },
    {
      "cell_type": "code",
      "metadata": {
        "colab": {
          "base_uri": "https://localhost:8080/"
        },
        "id": "pu153NZH9Abm",
        "outputId": "2aeb8638-7bc3-450c-d234-1c161722e43a"
      },
      "source": [
        "print(\"Accuracy:\",metrics.accuracy_score(y_train_test, y_pred_van))\n"
      ],
      "execution_count": 42,
      "outputs": [
        {
          "output_type": "stream",
          "name": "stdout",
          "text": [
            "Accuracy: 0.7394509803921568\n"
          ]
        }
      ]
    },
    {
      "cell_type": "code",
      "metadata": {
        "colab": {
          "base_uri": "https://localhost:8080/"
        },
        "id": "LXOD8QNb9CyC",
        "outputId": "a528367c-13ec-478c-f801-d01e15c12b13"
      },
      "source": [
        "accuracies_nav = cross_val_score(estimator=model_nav, X=X_train_train, y=y_train_train, cv=10)\n",
        "accuracies_nav.mean()"
      ],
      "execution_count": 43,
      "outputs": [
        {
          "output_type": "execute_result",
          "data": {
            "text/plain": [
              "0.7410252655631964"
            ]
          },
          "metadata": {},
          "execution_count": 43
        }
      ]
    },
    {
      "cell_type": "code",
      "metadata": {
        "id": "XHiScFZL9KcB"
      },
      "source": [
        "from sklearn.neighbors import KNeighborsClassifier\n",
        "model_knn = KNeighborsClassifier(n_neighbors=5)\n",
        "model_knn.fit(X_train_train, y_train_train)\n",
        "y_pred = model_knn.predict(X_train_test)\n"
      ],
      "execution_count": 44,
      "outputs": []
    },
    {
      "cell_type": "code",
      "metadata": {
        "colab": {
          "base_uri": "https://localhost:8080/"
        },
        "id": "fFJLDtq09qUD",
        "outputId": "38180c9e-9375-4ed3-aab9-5a792640772b"
      },
      "source": [
        "print(\"Accuracy:\",metrics.accuracy_score(y_train_test, y_pred))"
      ],
      "execution_count": 45,
      "outputs": [
        {
          "output_type": "stream",
          "name": "stdout",
          "text": [
            "Accuracy: 0.6743529411764706\n"
          ]
        }
      ]
    },
    {
      "cell_type": "code",
      "metadata": {
        "colab": {
          "base_uri": "https://localhost:8080/"
        },
        "id": "u9_OeDu09wLn",
        "outputId": "3c73d31f-9753-4dab-9952-26f804137994"
      },
      "source": [
        "accuracies_knn = cross_val_score(estimator=model_knn, X=X_train_train, y=y_train_train, cv=10)\n",
        "accuracies_knn.mean()"
      ],
      "execution_count": 46,
      "outputs": [
        {
          "output_type": "execute_result",
          "data": {
            "text/plain": [
              "0.6808523331236306"
            ]
          },
          "metadata": {},
          "execution_count": 46
        }
      ]
    },
    {
      "cell_type": "markdown",
      "metadata": {
        "id": "UoLnZVYEzYXc"
      },
      "source": [
        "Cleaning test dataset"
      ]
    },
    {
      "cell_type": "code",
      "metadata": {
        "colab": {
          "resources": {
            "http://localhost:8080/nbextensions/google.colab/files.js": {
              "data": "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",
              "ok": true,
              "headers": [
                [
                  "content-type",
                  "application/javascript"
                ]
              ],
              "status": 200,
              "status_text": ""
            }
          },
          "base_uri": "https://localhost:8080/",
          "height": 72
        },
        "id": "5qqYlP0-zjWG",
        "outputId": "6b5096af-983c-46ce-c1c2-cbc8d79d38a7"
      },
      "source": [
        "from google.colab import files\n",
        "dataset = files.upload()"
      ],
      "execution_count": 47,
      "outputs": [
        {
          "output_type": "display_data",
          "data": {
            "text/html": [
              "\n",
              "     <input type=\"file\" id=\"files-85d90fec-2c99-43d7-96c9-f927d7ef753b\" name=\"files[]\" multiple disabled\n",
              "        style=\"border:none\" />\n",
              "     <output id=\"result-85d90fec-2c99-43d7-96c9-f927d7ef753b\">\n",
              "      Upload widget is only available when the cell has been executed in the\n",
              "      current browser session. Please rerun this cell to enable.\n",
              "      </output>\n",
              "      <script src=\"/nbextensions/google.colab/files.js\"></script> "
            ],
            "text/plain": [
              "<IPython.core.display.HTML object>"
            ]
          },
          "metadata": {}
        },
        {
          "output_type": "stream",
          "name": "stdout",
          "text": [
            "Saving test.csv to test.csv\n"
          ]
        }
      ]
    },
    {
      "cell_type": "code",
      "metadata": {
        "colab": {
          "base_uri": "https://localhost:8080/"
        },
        "id": "9FPbjIePz1pN",
        "outputId": "11cbddd6-bb41-4fae-b352-7b982b0ff963"
      },
      "source": [
        "df_test = pd.read_csv(io.BytesIO(dataset['test.csv']), skiprows=1,header=None) \n",
        "print(df_test.head())"
      ],
      "execution_count": 48,
      "outputs": [
        {
          "output_type": "stream",
          "name": "stdout",
          "text": [
            "          0               1  2   3   ...  19          20 21         22\n",
            "0  C-4401001  Andrew Dedmond  M  18  ...   1       Urban  1   93121.79\n",
            "1  C-4401002       B Andrews  F  65  ...   1       Rural  1   84638.14\n",
            "2  C-4401003    Anna Banning  F  42  ...   4       Urban  0  136464.20\n",
            "3  C-4401004        Al Baksh  F  63  ...   3       Rural  1   33670.81\n",
            "4  C-4401005      Zakir Sims  M  27  ...   2  Semi-Urban  1   57246.19\n",
            "\n",
            "[5 rows x 23 columns]\n"
          ]
        }
      ]
    },
    {
      "cell_type": "code",
      "metadata": {
        "colab": {
          "base_uri": "https://localhost:8080/"
        },
        "id": "-JnG9XHz0De8",
        "outputId": "e0d3e9f4-1861-4af9-b7ba-7252af4f8b6e"
      },
      "source": [
        "df_test.isnull().sum()"
      ],
      "execution_count": 49,
      "outputs": [
        {
          "output_type": "execute_result",
          "data": {
            "text/plain": [
              "0        0\n",
              "1        0\n",
              "2       12\n",
              "3        0\n",
              "4     1169\n",
              "5      436\n",
              "6        0\n",
              "7     1917\n",
              "8        0\n",
              "9        0\n",
              "10      46\n",
              "11       0\n",
              "12       0\n",
              "13     660\n",
              "14     449\n",
              "15       0\n",
              "16     430\n",
              "17       0\n",
              "18    1242\n",
              "19       0\n",
              "20      91\n",
              "21       0\n",
              "22       0\n",
              "dtype: int64"
            ]
          },
          "metadata": {},
          "execution_count": 49
        }
      ]
    },
    {
      "cell_type": "markdown",
      "metadata": {
        "id": "zgZ3ecFe064o"
      },
      "source": [
        "Filling numerical values"
      ]
    },
    {
      "cell_type": "code",
      "metadata": {
        "colab": {
          "base_uri": "https://localhost:8080/"
        },
        "id": "Vyz9EUoz0-fU",
        "outputId": "260b99dc-d7bb-4caa-dbb6-ccff6296e5eb"
      },
      "source": [
        "df_test[4].fillna(df_test[4].mean(), inplace = True)\n",
        "print(df_test[4])"
      ],
      "execution_count": 50,
      "outputs": [
        {
          "output_type": "stream",
          "name": "stdout",
          "text": [
            "0       2670.980000\n",
            "1       1240.110000\n",
            "2       2108.310000\n",
            "3        790.180000\n",
            "4       2943.190000\n",
            "           ...     \n",
            "7995    6214.550000\n",
            "7996    3170.730000\n",
            "7997    3363.300000\n",
            "7998    1269.800000\n",
            "7999    2569.207172\n",
            "Name: 4, Length: 8000, dtype: float64\n"
          ]
        }
      ]
    },
    {
      "cell_type": "code",
      "metadata": {
        "colab": {
          "base_uri": "https://localhost:8080/"
        },
        "id": "U8l6dO_01QMP",
        "outputId": "15459927-2adf-4dbe-c912-65dd235c8a42"
      },
      "source": [
        "df_test[10].fillna(df_test[10].mean(), inplace = True)\n",
        "print(df_test[10])"
      ],
      "execution_count": 51,
      "outputs": [
        {
          "output_type": "stream",
          "name": "stdout",
          "text": [
            "0       234.21\n",
            "1       305.03\n",
            "2       360.45\n",
            "3       112.97\n",
            "4       199.04\n",
            "         ...  \n",
            "7995    510.40\n",
            "7996    736.99\n",
            "7997    683.97\n",
            "7998    115.13\n",
            "7999    843.31\n",
            "Name: 10, Length: 8000, dtype: float64\n"
          ]
        }
      ]
    },
    {
      "cell_type": "code",
      "metadata": {
        "colab": {
          "base_uri": "https://localhost:8080/"
        },
        "id": "Kp1znX9n1g31",
        "outputId": "8c66b4f4-19e9-4583-c054-95362464c6bc"
      },
      "source": [
        "df_test[13].fillna(df_test[13].median(), inplace = True)\n",
        "print(df_test[13])"
      ],
      "execution_count": 52,
      "outputs": [
        {
          "output_type": "stream",
          "name": "stdout",
          "text": [
            "0       3.0\n",
            "1       2.0\n",
            "2       3.0\n",
            "3       2.0\n",
            "4       2.0\n",
            "       ... \n",
            "7995    3.0\n",
            "7996    1.0\n",
            "7997    2.0\n",
            "7998    2.0\n",
            "7999    1.0\n",
            "Name: 13, Length: 8000, dtype: float64\n"
          ]
        }
      ]
    },
    {
      "cell_type": "code",
      "metadata": {
        "colab": {
          "base_uri": "https://localhost:8080/"
        },
        "id": "3FTHv8sB1sTO",
        "outputId": "4ed75d45-73aa-46d4-e10f-f65afd79163f"
      },
      "source": [
        "df_test[14].fillna(df_test[14].mean(), inplace = True)\n",
        "print(df_test[14])"
      ],
      "execution_count": 53,
      "outputs": [
        {
          "output_type": "stream",
          "name": "stdout",
          "text": [
            "0       708.35\n",
            "1       851.36\n",
            "2       636.52\n",
            "3       791.06\n",
            "4       697.74\n",
            "         ...  \n",
            "7995    614.57\n",
            "7996    672.21\n",
            "7997    814.96\n",
            "7998    785.10\n",
            "7999    675.02\n",
            "Name: 14, Length: 8000, dtype: float64\n"
          ]
        }
      ]
    },
    {
      "cell_type": "code",
      "metadata": {
        "colab": {
          "base_uri": "https://localhost:8080/"
        },
        "id": "OB9gcUTC10xn",
        "outputId": "5d8b3625-df39-4314-f506-c35cffb046a1"
      },
      "source": [
        "df_test[18].fillna(df_test[18].mean(), inplace = True)\n",
        "print(df_test[18])"
      ],
      "execution_count": 54,
      "outputs": [
        {
          "output_type": "stream",
          "name": "stdout",
          "text": [
            "0       2670.980000\n",
            "1       1240.110000\n",
            "2       2108.310000\n",
            "3        790.180000\n",
            "4       2943.190000\n",
            "           ...     \n",
            "7995    6214.550000\n",
            "7996    3170.730000\n",
            "7997    3363.300000\n",
            "7998    1269.800000\n",
            "7999    2570.303358\n",
            "Name: 18, Length: 8000, dtype: float64\n"
          ]
        }
      ]
    },
    {
      "cell_type": "markdown",
      "metadata": {
        "id": "8UoEukqc2lWd"
      },
      "source": [
        "filling categorical values"
      ]
    },
    {
      "cell_type": "code",
      "metadata": {
        "colab": {
          "base_uri": "https://localhost:8080/"
        },
        "id": "0indZDGH2od2",
        "outputId": "55925b66-9728-411f-baa2-408b07e4aec6"
      },
      "source": [
        "df_test[2].fillna(df_test[2].mode()[0], inplace = True)\n",
        "print(df_test[2])"
      ],
      "execution_count": 55,
      "outputs": [
        {
          "output_type": "stream",
          "name": "stdout",
          "text": [
            "0       M\n",
            "1       F\n",
            "2       F\n",
            "3       F\n",
            "4       M\n",
            "       ..\n",
            "7995    F\n",
            "7996    M\n",
            "7997    M\n",
            "7998    F\n",
            "7999    M\n",
            "Name: 2, Length: 8000, dtype: object\n"
          ]
        }
      ]
    },
    {
      "cell_type": "code",
      "metadata": {
        "colab": {
          "base_uri": "https://localhost:8080/",
          "height": 265
        },
        "id": "3fLIoTcaDW9L",
        "outputId": "99fedb7a-7276-4660-93b3-559854fb37d2"
      },
      "source": [
        "df_test.groupby(2).size().plot(kind='pie', autopct='%.2f')\n",
        "plt.ylabel(\"\")\n"
      ],
      "execution_count": 56,
      "outputs": [
        {
          "output_type": "execute_result",
          "data": {
            "text/plain": [
              "Text(0, 0.5, '')"
            ]
          },
          "metadata": {},
          "execution_count": 56
        },
        {
          "output_type": "display_data",
          "data": {
            "image/png": "[encoded data removed]",
            "text/plain": [
              "<Figure size 432x288 with 1 Axes>"
            ]
          },
          "metadata": {}
        }
      ]
    },
    {
      "cell_type": "code",
      "metadata": {
        "colab": {
          "base_uri": "https://localhost:8080/"
        },
        "id": "SwUSaH2b29se",
        "outputId": "6bbecb73-778c-45e8-b9c1-b04cf472c1b2"
      },
      "source": [
        "df_test[5].fillna(df_test[5].mode()[0], inplace = True)\n",
        "print(df_test[5])"
      ],
      "execution_count": 57,
      "outputs": [
        {
          "output_type": "stream",
          "name": "stdout",
          "text": [
            "0        Low\n",
            "1       High\n",
            "2        Low\n",
            "3       High\n",
            "4        Low\n",
            "        ... \n",
            "7995     Low\n",
            "7996     Low\n",
            "7997     Low\n",
            "7998     Low\n",
            "7999     Low\n",
            "Name: 5, Length: 8000, dtype: object\n"
          ]
        }
      ]
    },
    {
      "cell_type": "code",
      "metadata": {
        "colab": {
          "base_uri": "https://localhost:8080/",
          "height": 265
        },
        "id": "x-1c5NWlD0WZ",
        "outputId": "e7f822a3-6c0c-49fe-fdd3-7ad02f13443d"
      },
      "source": [
        "df_test.groupby(5).size().plot(kind='pie', autopct='%.2f')\n",
        "plt.ylabel(\"\")\n"
      ],
      "execution_count": 58,
      "outputs": [
        {
          "output_type": "execute_result",
          "data": {
            "text/plain": [
              "Text(0, 0.5, '')"
            ]
          },
          "metadata": {},
          "execution_count": 58
        },
        {
          "output_type": "display_data",
          "data": {
            "image/png": "[encoded data removed]",
            "text/plain": [
              "<Figure size 432x288 with 1 Axes>"
            ]
          },
          "metadata": {}
        }
      ]
    },
    {
      "cell_type": "code",
      "metadata": {
        "colab": {
          "base_uri": "https://localhost:8080/"
        },
        "id": "3oIOIhxM3R2D",
        "outputId": "2cc69b29-cc97-4946-9731-78ea692e816a"
      },
      "source": [
        "df_test[7].fillna(df_test[7].mode()[0], inplace = True)\n",
        "print(df_test[7])"
      ],
      "execution_count": 59,
      "outputs": [
        {
          "output_type": "stream",
          "name": "stdout",
          "text": [
            "0               Core staff\n",
            "1                 Laborers\n",
            "2                 Laborers\n",
            "3                 Laborers\n",
            "4       Low-skill Laborers\n",
            "               ...        \n",
            "7995               Drivers\n",
            "7996           Sales staff\n",
            "7997            Core staff\n",
            "7998              Laborers\n",
            "7999              Laborers\n",
            "Name: 7, Length: 8000, dtype: object\n"
          ]
        }
      ]
    },
    {
      "cell_type": "code",
      "metadata": {
        "colab": {
          "base_uri": "https://localhost:8080/"
        },
        "id": "fwfte6rq3XYN",
        "outputId": "9cc30883-c0da-4232-f148-a7cccf245c9a"
      },
      "source": [
        "df_test[16].fillna(df_test[16].mode()[0], inplace = True)\n",
        "print(df_test[16])"
      ],
      "execution_count": 60,
      "outputs": [
        {
          "output_type": "stream",
          "name": "stdout",
          "text": [
            "0            Active\n",
            "1            Active\n",
            "2            Active\n",
            "3            Active\n",
            "4          Inactive\n",
            "           ...     \n",
            "7995       Inactive\n",
            "7996    Unpossessed\n",
            "7997    Unpossessed\n",
            "7998       Inactive\n",
            "7999    Unpossessed\n",
            "Name: 16, Length: 8000, dtype: object\n"
          ]
        }
      ]
    },
    {
      "cell_type": "code",
      "metadata": {
        "colab": {
          "base_uri": "https://localhost:8080/",
          "height": 265
        },
        "id": "xzGw9kYZECrC",
        "outputId": "03916a37-0621-4eb3-bb58-d1ca29bd349a"
      },
      "source": [
        "df_test.groupby(16).size().plot(kind='pie', autopct='%.2f')\n",
        "plt.ylabel(\"\")"
      ],
      "execution_count": 61,
      "outputs": [
        {
          "output_type": "execute_result",
          "data": {
            "text/plain": [
              "Text(0, 0.5, '')"
            ]
          },
          "metadata": {},
          "execution_count": 61
        },
        {
          "output_type": "display_data",
          "data": {
            "image/png": "[encoded data removed]",
            "text/plain": [
              "<Figure size 432x288 with 1 Axes>"
            ]
          },
          "metadata": {}
        }
      ]
    },
    {
      "cell_type": "code",
      "metadata": {
        "colab": {
          "base_uri": "https://localhost:8080/"
        },
        "id": "WcNutVDA3d9W",
        "outputId": "d3464c1b-7c20-4b08-eead-2cd4ae925db1"
      },
      "source": [
        "df_test[20].fillna(df_test[20].mode()[0], inplace = True)\n",
        "print(df_test[20])"
      ],
      "execution_count": 62,
      "outputs": [
        {
          "output_type": "stream",
          "name": "stdout",
          "text": [
            "0            Urban\n",
            "1            Rural\n",
            "2            Urban\n",
            "3            Rural\n",
            "4       Semi-Urban\n",
            "           ...    \n",
            "7995         Rural\n",
            "7996         Rural\n",
            "7997         Urban\n",
            "7998         Rural\n",
            "7999         Urban\n",
            "Name: 20, Length: 8000, dtype: object\n"
          ]
        }
      ]
    },
    {
      "cell_type": "code",
      "metadata": {
        "colab": {
          "base_uri": "https://localhost:8080/",
          "height": 265
        },
        "id": "-hozRk7qEdLJ",
        "outputId": "8ee3e880-8723-42a9-ee51-980805e462d5"
      },
      "source": [
        "df_test.groupby(20).size().plot(kind='pie', autopct='%.2f')\n",
        "plt.ylabel(\"\")"
      ],
      "execution_count": 63,
      "outputs": [
        {
          "output_type": "execute_result",
          "data": {
            "text/plain": [
              "Text(0, 0.5, '')"
            ]
          },
          "metadata": {},
          "execution_count": 63
        },
        {
          "output_type": "display_data",
          "data": {
            "image/png": "[encoded data removed]",
            "text/plain": [
              "<Figure size 432x288 with 1 Axes>"
            ]
          },
          "metadata": {}
        }
      ]
    },
    {
      "cell_type": "code",
      "metadata": {
        "colab": {
          "base_uri": "https://localhost:8080/"
        },
        "id": "nsCHOGxx3iw3",
        "outputId": "09842ab0-6c7e-4030-98ba-439f6d52042b"
      },
      "source": [
        "df_test.isnull().sum()"
      ],
      "execution_count": 64,
      "outputs": [
        {
          "output_type": "execute_result",
          "data": {
            "text/plain": [
              "0     0\n",
              "1     0\n",
              "2     0\n",
              "3     0\n",
              "4     0\n",
              "5     0\n",
              "6     0\n",
              "7     0\n",
              "8     0\n",
              "9     0\n",
              "10    0\n",
              "11    0\n",
              "12    0\n",
              "13    0\n",
              "14    0\n",
              "15    0\n",
              "16    0\n",
              "17    0\n",
              "18    0\n",
              "19    0\n",
              "20    0\n",
              "21    0\n",
              "22    0\n",
              "dtype: int64"
            ]
          },
          "metadata": {},
          "execution_count": 64
        }
      ]
    },
    {
      "cell_type": "markdown",
      "metadata": {
        "id": "DJVZb5JM_YPf"
      },
      "source": [
        "Label encoding of categorical values"
      ]
    },
    {
      "cell_type": "code",
      "metadata": {
        "colab": {
          "base_uri": "https://localhost:8080/"
        },
        "id": "a7y3nHSF_b12",
        "outputId": "a5fd0d2b-63f7-4cf2-fdd8-551bcaaea95f"
      },
      "source": [
        "# Categorical boolean mask\n",
        "categorical_feature_mask = df_test.dtypes==object\n",
        "\n",
        "# filter categorical columns using mask and turn it into a list\n",
        "categorical_cols = df_test.columns[categorical_feature_mask].tolist()\n",
        "categorical_cols.pop(0)\n",
        "categorical_cols.pop(0)\n",
        "print(categorical_cols)"
      ],
      "execution_count": 65,
      "outputs": [
        {
          "output_type": "stream",
          "name": "stdout",
          "text": [
            "[2, 5, 6, 7, 8, 11, 12, 16, 20]\n"
          ]
        }
      ]
    },
    {
      "cell_type": "code",
      "metadata": {
        "id": "3xbnehNP_ojc"
      },
      "source": [
        "# import labelencoder\n",
        "from sklearn.preprocessing import LabelEncoder\n",
        "# instantiate labelencoder object\n",
        "le = LabelEncoder()"
      ],
      "execution_count": 66,
      "outputs": []
    },
    {
      "cell_type": "code",
      "metadata": {
        "colab": {
          "base_uri": "https://localhost:8080/",
          "height": 359
        },
        "id": "JDrcbxXL_7ca",
        "outputId": "0a010c01-04b3-4ca1-e0c1-37a9044c4409"
      },
      "source": [
        "# apply le on categorical feature columns\n",
        "df_test[categorical_cols] = df_test[categorical_cols].apply(lambda col: le.fit_transform(col))\n",
        "df_test[categorical_cols].head(10)"
      ],
      "execution_count": 67,
      "outputs": [
        {
          "output_type": "execute_result",
          "data": {
            "text/html": [
              "<div>\n",
              "<style scoped>\n",
              "    .dataframe tbody tr th:only-of-type {\n",
              "        vertical-align: middle;\n",
              "    }\n",
              "\n",
              "    .dataframe tbody tr th {\n",
              "        vertical-align: top;\n",
              "    }\n",
              "\n",
              "    .dataframe thead th {\n",
              "        text-align: right;\n",
              "    }\n",
              "</style>\n",
              "<table border=\"1\" class=\"dataframe\">\n",
              "  <thead>\n",
              "    <tr style=\"text-align: right;\">\n",
              "      <th></th>\n",
              "      <th>2</th>\n",
              "      <th>5</th>\n",
              "      <th>6</th>\n",
              "      <th>7</th>\n",
              "      <th>8</th>\n",
              "      <th>11</th>\n",
              "      <th>12</th>\n",
              "      <th>16</th>\n",
              "      <th>20</th>\n",
              "    </tr>\n",
              "  </thead>\n",
              "  <tbody>\n",
              "    <tr>\n",
              "      <th>0</th>\n",
              "      <td>1</td>\n",
              "      <td>1</td>\n",
              "      <td>5</td>\n",
              "      <td>3</td>\n",
              "      <td>1</td>\n",
              "      <td>0</td>\n",
              "      <td>0</td>\n",
              "      <td>0</td>\n",
              "      <td>2</td>\n",
              "    </tr>\n",
              "    <tr>\n",
              "      <th>1</th>\n",
              "      <td>0</td>\n",
              "      <td>0</td>\n",
              "      <td>2</td>\n",
              "      <td>8</td>\n",
              "      <td>0</td>\n",
              "      <td>0</td>\n",
              "      <td>0</td>\n",
              "      <td>0</td>\n",
              "      <td>0</td>\n",
              "    </tr>\n",
              "    <tr>\n",
              "      <th>2</th>\n",
              "      <td>0</td>\n",
              "      <td>1</td>\n",
              "      <td>5</td>\n",
              "      <td>8</td>\n",
              "      <td>1</td>\n",
              "      <td>0</td>\n",
              "      <td>0</td>\n",
              "      <td>0</td>\n",
              "      <td>2</td>\n",
              "    </tr>\n",
              "    <tr>\n",
              "      <th>3</th>\n",
              "      <td>0</td>\n",
              "      <td>0</td>\n",
              "      <td>2</td>\n",
              "      <td>8</td>\n",
              "      <td>1</td>\n",
              "      <td>0</td>\n",
              "      <td>1</td>\n",
              "      <td>0</td>\n",
              "      <td>0</td>\n",
              "    </tr>\n",
              "    <tr>\n",
              "      <th>4</th>\n",
              "      <td>1</td>\n",
              "      <td>1</td>\n",
              "      <td>5</td>\n",
              "      <td>9</td>\n",
              "      <td>1</td>\n",
              "      <td>0</td>\n",
              "      <td>1</td>\n",
              "      <td>1</td>\n",
              "      <td>1</td>\n",
              "    </tr>\n",
              "    <tr>\n",
              "      <th>5</th>\n",
              "      <td>0</td>\n",
              "      <td>1</td>\n",
              "      <td>1</td>\n",
              "      <td>8</td>\n",
              "      <td>1</td>\n",
              "      <td>1</td>\n",
              "      <td>1</td>\n",
              "      <td>2</td>\n",
              "      <td>2</td>\n",
              "    </tr>\n",
              "    <tr>\n",
              "      <th>6</th>\n",
              "      <td>0</td>\n",
              "      <td>1</td>\n",
              "      <td>1</td>\n",
              "      <td>8</td>\n",
              "      <td>1</td>\n",
              "      <td>0</td>\n",
              "      <td>1</td>\n",
              "      <td>1</td>\n",
              "      <td>1</td>\n",
              "    </tr>\n",
              "    <tr>\n",
              "      <th>7</th>\n",
              "      <td>1</td>\n",
              "      <td>1</td>\n",
              "      <td>5</td>\n",
              "      <td>8</td>\n",
              "      <td>1</td>\n",
              "      <td>1</td>\n",
              "      <td>1</td>\n",
              "      <td>2</td>\n",
              "      <td>2</td>\n",
              "    </tr>\n",
              "    <tr>\n",
              "      <th>8</th>\n",
              "      <td>0</td>\n",
              "      <td>1</td>\n",
              "      <td>5</td>\n",
              "      <td>6</td>\n",
              "      <td>1</td>\n",
              "      <td>0</td>\n",
              "      <td>1</td>\n",
              "      <td>2</td>\n",
              "      <td>0</td>\n",
              "    </tr>\n",
              "    <tr>\n",
              "      <th>9</th>\n",
              "      <td>1</td>\n",
              "      <td>1</td>\n",
              "      <td>5</td>\n",
              "      <td>10</td>\n",
              "      <td>1</td>\n",
              "      <td>0</td>\n",
              "      <td>1</td>\n",
              "      <td>2</td>\n",
              "      <td>2</td>\n",
              "    </tr>\n",
              "  </tbody>\n",
              "</table>\n",
              "</div>"
            ],
            "text/plain": [
              "   2   5   6   7   8   11  12  16  20\n",
              "0   1   1   5   3   1   0   0   0   2\n",
              "1   0   0   2   8   0   0   0   0   0\n",
              "2   0   1   5   8   1   0   0   0   2\n",
              "3   0   0   2   8   1   0   1   0   0\n",
              "4   1   1   5   9   1   0   1   1   1\n",
              "5   0   1   1   8   1   1   1   2   2\n",
              "6   0   1   1   8   1   0   1   1   1\n",
              "7   1   1   5   8   1   1   1   2   2\n",
              "8   0   1   5   6   1   0   1   2   0\n",
              "9   1   1   5  10   1   0   1   2   2"
            ]
          },
          "metadata": {},
          "execution_count": 67
        }
      ]
    },
    {
      "cell_type": "markdown",
      "metadata": {
        "id": "SmRVF0TS32Uu"
      },
      "source": [
        "Split X and y for testing"
      ]
    },
    {
      "cell_type": "code",
      "metadata": {
        "colab": {
          "base_uri": "https://localhost:8080/"
        },
        "id": "1hPMuuoN37Ij",
        "outputId": "6b99d81c-6afd-4c0b-b6e9-017e699d980a"
      },
      "source": [
        "X_test = df_test.iloc[:, 2:23]\n",
        "print(X_test)"
      ],
      "execution_count": 68,
      "outputs": [
        {
          "output_type": "stream",
          "name": "stdout",
          "text": [
            "      2   3            4   5   6   7   ...   17           18  19  20  21         22\n",
            "0      1  18  2670.980000   1   5   3  ...  398  2670.980000   1   2   1   93121.79\n",
            "1      0  65  1240.110000   0   2   8  ...  352  1240.110000   1   0   1   84638.14\n",
            "2      0  42  2108.310000   1   5   8  ...  500  2108.310000   4   2   0  136464.20\n",
            "3      0  63   790.180000   0   2   8  ...  360   790.180000   3   0   1   33670.81\n",
            "4      1  27  2943.190000   1   5   9  ...  768  2943.190000   2   1   1   57246.19\n",
            "...   ..  ..          ...  ..  ..  ..  ...  ...          ...  ..  ..  ..        ...\n",
            "7995   0  26  6214.550000   1   5   4  ...  756  6214.550000   3   0   0  218721.09\n",
            "7996   1  63  3170.730000   1   5  14  ...  310  3170.730000   4   0   1  227181.94\n",
            "7997   1  63  3363.300000   1   3   3  ...  838  3363.300000   4   2   1  286234.45\n",
            "7998   0  18  1269.800000   1   5   8  ...  558  1269.800000   2   0   1   59028.48\n",
            "7999   1  43  2569.207172   1   1   8  ...  961  2570.303358   2   2   1  175989.12\n",
            "\n",
            "[8000 rows x 21 columns]\n"
          ]
        }
      ]
    },
    {
      "cell_type": "code",
      "metadata": {
        "id": "n3_1NOoetyy4"
      },
      "source": [
        "y_result_log = model_log.predict(X_test)"
      ],
      "execution_count": 69,
      "outputs": []
    },
    {
      "cell_type": "code",
      "metadata": {
        "colab": {
          "base_uri": "https://localhost:8080/"
        },
        "id": "UNVPRnpJuHCi",
        "outputId": "e2245e4b-005f-492c-b80f-0a35a40cb11c"
      },
      "source": [
        "print(y_result_log)"
      ],
      "execution_count": 70,
      "outputs": [
        {
          "output_type": "stream",
          "name": "stdout",
          "text": [
            "[1 1 1 ... 1 1 1]\n"
          ]
        }
      ]
    },
    {
      "cell_type": "code",
      "metadata": {
        "colab": {
          "base_uri": "https://localhost:8080/"
        },
        "id": "lgNyY_u5u3q4",
        "outputId": "b590e3f9-29cc-4731-d728-31955abb9034"
      },
      "source": [
        "y_result_nav = model_nav.predict(X_test)\n",
        "print(y_result_nav)"
      ],
      "execution_count": 71,
      "outputs": [
        {
          "output_type": "stream",
          "name": "stdout",
          "text": [
            "[1 1 0 ... 1 1 1]\n"
          ]
        }
      ]
    },
    {
      "cell_type": "code",
      "metadata": {
        "colab": {
          "base_uri": "https://localhost:8080/"
        },
        "id": "jt4dAgK9-S5W",
        "outputId": "bf6aeb9d-c0d9-4048-f73e-109f8c5e10cc"
      },
      "source": [
        "y_result_knn = model_knn.predict(X_test)\n",
        "print(y_result_knn)"
      ],
      "execution_count": 72,
      "outputs": [
        {
          "output_type": "stream",
          "name": "stdout",
          "text": [
            "[1 0 1 ... 1 1 1]\n"
          ]
        }
      ]
    },
    {
      "cell_type": "code",
      "metadata": {
        "colab": {
          "base_uri": "https://localhost:8080/"
        },
        "id": "6jth1emW-a9w",
        "outputId": "6c0aeaf0-2990-4bb8-92fd-01c330e894d7"
      },
      "source": [
        "y_result_ran = model_ran.predict(X_test)\n",
        "print(y_result_ran)"
      ],
      "execution_count": 73,
      "outputs": [
        {
          "output_type": "stream",
          "name": "stdout",
          "text": [
            "[1 1 0 ... 1 1 1]\n"
          ]
        }
      ]
    },
    {
      "cell_type": "code",
      "metadata": {
        "colab": {
          "base_uri": "https://localhost:8080/"
        },
        "id": "DwsYU74Z-9tg",
        "outputId": "7a1a3b46-9707-4c03-a12c-4930a4689b71"
      },
      "source": [
        "df_result = pd.DataFrame(df_test[0])\n",
        "print(df_result)\n"
      ],
      "execution_count": 74,
      "outputs": [
        {
          "output_type": "stream",
          "name": "stdout",
          "text": [
            "              0\n",
            "0     C-4401001\n",
            "1     C-4401002\n",
            "2     C-4401003\n",
            "3     C-4401004\n",
            "4     C-4401005\n",
            "...         ...\n",
            "7995  C-4408996\n",
            "7996  C-4408997\n",
            "7997  C-4408998\n",
            "7998  C-4408999\n",
            "7999  C-4409000\n",
            "\n",
            "[8000 rows x 1 columns]\n"
          ]
        }
      ]
    },
    {
      "cell_type": "code",
      "metadata": {
        "colab": {
          "base_uri": "https://localhost:8080/"
        },
        "id": "56LZ2lSQBYgt",
        "outputId": "615b46c7-6f99-48aa-bfb9-a2d46d448491"
      },
      "source": [
        "df_result_model = pd.DataFrame(y_result_ran)\n",
        "print(df_result_model)"
      ],
      "execution_count": 75,
      "outputs": [
        {
          "output_type": "stream",
          "name": "stdout",
          "text": [
            "      0\n",
            "0     1\n",
            "1     1\n",
            "2     0\n",
            "3     1\n",
            "4     1\n",
            "...  ..\n",
            "7995  0\n",
            "7996  1\n",
            "7997  1\n",
            "7998  1\n",
            "7999  1\n",
            "\n",
            "[8000 rows x 1 columns]\n"
          ]
        }
      ]
    },
    {
      "cell_type": "code",
      "metadata": {
        "colab": {
          "base_uri": "https://localhost:8080/"
        },
        "id": "QJKKI4paBvNJ",
        "outputId": "e083d5d3-6595-47c9-f537-103a0ac3beff"
      },
      "source": [
        "df_final_result = pd.concat([df_result, df_result_model], axis=1)\n",
        "print(df_final_result)"
      ],
      "execution_count": 76,
      "outputs": [
        {
          "output_type": "stream",
          "name": "stdout",
          "text": [
            "              0  0\n",
            "0     C-4401001  1\n",
            "1     C-4401002  1\n",
            "2     C-4401003  0\n",
            "3     C-4401004  1\n",
            "4     C-4401005  1\n",
            "...         ... ..\n",
            "7995  C-4408996  0\n",
            "7996  C-4408997  1\n",
            "7997  C-4408998  1\n",
            "7998  C-4408999  1\n",
            "7999  C-4409000  1\n",
            "\n",
            "[8000 rows x 2 columns]\n"
          ]
        }
      ]
    },
    {
      "cell_type": "code",
      "metadata": {
        "colab": {
          "base_uri": "https://localhost:8080/"
        },
        "id": "NHP5IzHzGHUP",
        "outputId": "713db359-f1f7-4bec-b109-d212ff6f0ed9"
      },
      "source": [
        "df_final_result.columns"
      ],
      "execution_count": 77,
      "outputs": [
        {
          "output_type": "execute_result",
          "data": {
            "text/plain": [
              "Int64Index([0, 0], dtype='int64')"
            ]
          },
          "metadata": {},
          "execution_count": 77
        }
      ]
    },
    {
      "cell_type": "code",
      "metadata": {
        "id": "ff_-LdhRGR6x"
      },
      "source": [
        "df_final_result.columns = ['Customer ID', 'Loan-Sanction']"
      ],
      "execution_count": 78,
      "outputs": []
    },
    {
      "cell_type": "code",
      "metadata": {
        "colab": {
          "base_uri": "https://localhost:8080/",
          "height": 419
        },
        "id": "nEkNpqTDGiVz",
        "outputId": "294c6c75-9bef-4430-f02d-b99f652c51a6"
      },
      "source": [
        "df_final_result"
      ],
      "execution_count": 79,
      "outputs": [
        {
          "output_type": "execute_result",
          "data": {
            "text/html": [
              "<div>\n",
              "<style scoped>\n",
              "    .dataframe tbody tr th:only-of-type {\n",
              "        vertical-align: middle;\n",
              "    }\n",
              "\n",
              "    .dataframe tbody tr th {\n",
              "        vertical-align: top;\n",
              "    }\n",
              "\n",
              "    .dataframe thead th {\n",
              "        text-align: right;\n",
              "    }\n",
              "</style>\n",
              "<table border=\"1\" class=\"dataframe\">\n",
              "  <thead>\n",
              "    <tr style=\"text-align: right;\">\n",
              "      <th></th>\n",
              "      <th>Customer ID</th>\n",
              "      <th>Loan-Sanction</th>\n",
              "    </tr>\n",
              "  </thead>\n",
              "  <tbody>\n",
              "    <tr>\n",
              "      <th>0</th>\n",
              "      <td>C-4401001</td>\n",
              "      <td>1</td>\n",
              "    </tr>\n",
              "    <tr>\n",
              "      <th>1</th>\n",
              "      <td>C-4401002</td>\n",
              "      <td>1</td>\n",
              "    </tr>\n",
              "    <tr>\n",
              "      <th>2</th>\n",
              "      <td>C-4401003</td>\n",
              "      <td>0</td>\n",
              "    </tr>\n",
              "    <tr>\n",
              "      <th>3</th>\n",
              "      <td>C-4401004</td>\n",
              "      <td>1</td>\n",
              "    </tr>\n",
              "    <tr>\n",
              "      <th>4</th>\n",
              "      <td>C-4401005</td>\n",
              "      <td>1</td>\n",
              "    </tr>\n",
              "    <tr>\n",
              "      <th>...</th>\n",
              "      <td>...</td>\n",
              "      <td>...</td>\n",
              "    </tr>\n",
              "    <tr>\n",
              "      <th>7995</th>\n",
              "      <td>C-4408996</td>\n",
              "      <td>0</td>\n",
              "    </tr>\n",
              "    <tr>\n",
              "      <th>7996</th>\n",
              "      <td>C-4408997</td>\n",
              "      <td>1</td>\n",
              "    </tr>\n",
              "    <tr>\n",
              "      <th>7997</th>\n",
              "      <td>C-4408998</td>\n",
              "      <td>1</td>\n",
              "    </tr>\n",
              "    <tr>\n",
              "      <th>7998</th>\n",
              "      <td>C-4408999</td>\n",
              "      <td>1</td>\n",
              "    </tr>\n",
              "    <tr>\n",
              "      <th>7999</th>\n",
              "      <td>C-4409000</td>\n",
              "      <td>1</td>\n",
              "    </tr>\n",
              "  </tbody>\n",
              "</table>\n",
              "<p>8000 rows × 2 columns</p>\n",
              "</div>"
            ],
            "text/plain": [
              "     Customer ID  Loan-Sanction\n",
              "0      C-4401001              1\n",
              "1      C-4401002              1\n",
              "2      C-4401003              0\n",
              "3      C-4401004              1\n",
              "4      C-4401005              1\n",
              "...          ...            ...\n",
              "7995   C-4408996              0\n",
              "7996   C-4408997              1\n",
              "7997   C-4408998              1\n",
              "7998   C-4408999              1\n",
              "7999   C-4409000              1\n",
              "\n",
              "[8000 rows x 2 columns]"
            ]
          },
          "metadata": {},
          "execution_count": 79
        }
      ]
    },
    {
      "cell_type": "code",
      "metadata": {
        "colab": {
          "base_uri": "https://localhost:8080/",
          "height": 265
        },
        "id": "iF4LiWHTb9gf",
        "outputId": "8b4ae6b8-6ab2-4e15-cab9-6071b1ec7fc2"
      },
      "source": [
        "df_final_result.groupby('Loan-Sanction').size().plot(kind='pie', autopct='%.2f')\n",
        "plt.ylabel(\"\")\n"
      ],
      "execution_count": 85,
      "outputs": [
        {
          "output_type": "execute_result",
          "data": {
            "text/plain": [
              "Text(0, 0.5, '')"
            ]
          },
          "metadata": {},
          "execution_count": 85
        },
        {
          "output_type": "display_data",
          "data": {
            "image/png": "[encoded data removed]",
            "text/plain": [
              "<Figure size 432x288 with 1 Axes>"
            ]
          },
          "metadata": {}
        }
      ]
    },
    {
      "cell_type": "code",
      "metadata": {
        "id": "aDHJUIMlCd74"
      },
      "source": [
        "from google.colab import files\n",
        "df_final_result.to_csv('final_result_loan.csv') "
      ],
      "execution_count": 80,
      "outputs": []
    },
    {
      "cell_type": "markdown",
      "metadata": {
        "id": "AWw-xfR42fy3"
      },
      "source": [
        "Visualization Techniques\n"
      ]
    },
    {
      "cell_type": "code",
      "metadata": {
        "colab": {
          "base_uri": "https://localhost:8080/",
          "height": 269
        },
        "id": "luDbxP6D2jqC",
        "outputId": "119a47ad-3237-409c-8a6a-dccb9ea7d847"
      },
      "source": [
        "import seaborn as sns\n",
        "dataframe = X_train\n",
        "ax = sns.heatmap(dataframe.corr())\n"
      ],
      "execution_count": 81,
      "outputs": [
        {
          "output_type": "display_data",
          "data": {
            "image/png": "[encoded data removed]",
            "text/plain": [
              "<Figure size 432x288 with 2 Axes>"
            ]
          },
          "metadata": {
            "needs_background": "light"
          }
        }
      ]
    },
    {
      "cell_type": "code",
      "metadata": {
        "colab": {
          "base_uri": "https://localhost:8080/",
          "height": 265
        },
        "id": "RmW9YjrK8K3i",
        "outputId": "5101940f-b309-4b20-c6ca-945134da7a34"
      },
      "source": [
        "from matplotlib import pyplot as plt\n",
        "from matplotlib.pyplot import pie, axis, show\n",
        "\n",
        "df.groupby(2).size().plot(kind='pie', autopct='%.2f')\n"
      ],
      "execution_count": 82,
      "outputs": [
        {
          "output_type": "execute_result",
          "data": {
            "text/plain": [
              "<matplotlib.axes._subplots.AxesSubplot at 0x7fb1207a53d0>"
            ]
          },
          "metadata": {},
          "execution_count": 82
        },
        {
          "output_type": "display_data",
          "data": {
            "image/png": "[encoded data removed]",
            "text/plain": [
              "<Figure size 432x288 with 1 Axes>"
            ]
          },
          "metadata": {}
        }
      ]
    }
  ]
}